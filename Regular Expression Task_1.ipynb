{
 "cells": [
  {
   "cell_type": "markdown",
   "id": "4e037e21",
   "metadata": {},
   "source": [
    "# Part 1 – Beginner (Basic Matching & Searching) – 30 Tasks"
   ]
  },
  {
   "cell_type": "markdown",
   "id": "d2658300",
   "metadata": {},
   "source": []
  },
  {
   "cell_type": "code",
   "execution_count": 5,
   "id": "e759f014",
   "metadata": {},
   "outputs": [
    {
     "name": "stdout",
     "output_type": "stream",
     "text": [
      "Match found: Python\n"
     ]
    }
   ],
   "source": [
    "import re\n",
    "\n",
    "import re\n",
    "\n",
    "text = \"I love Python programming.\"\n",
    "match = re.search(r\"Python\", text)\n",
    "\n",
    "if match:\n",
    "    print(f\"Match found: {match.group()}\")\n",
    "else:\n",
    "    print(\"No match found.\")"
   ]
  },
  {
   "cell_type": "code",
   "execution_count": 7,
   "id": "578e1600",
   "metadata": {},
   "outputs": [
    {
     "name": "stdout",
     "output_type": "stream",
     "text": [
      "True\n"
     ]
    }
   ],
   "source": [
    "import re\n",
    "\n",
    "text = \"HelloWorld\"\n",
    "result = bool(re.fullmatch(r\"[A-Za-z]+\", text))\n",
    "print(result)\n"
   ]
  },
  {
   "cell_type": "code",
   "execution_count": 8,
   "id": "746ec756",
   "metadata": {},
   "outputs": [
    {
     "name": "stdout",
     "output_type": "stream",
     "text": [
      "True\n"
     ]
    }
   ],
   "source": [
    "import re\n",
    "\n",
    "text = \"123456\"\n",
    "result = bool(re.fullmatch(r\"\\d+\", text))\n",
    "print(result)\n"
   ]
  },
  {
   "cell_type": "code",
   "execution_count": 9,
   "id": "4e3e4fd2",
   "metadata": {},
   "outputs": [
    {
     "name": "stdout",
     "output_type": "stream",
     "text": [
      "['7', '7', '7']\n"
     ]
    }
   ],
   "source": [
    "import re\n",
    "\n",
    "text = \"My number is 77897\"\n",
    "result = re.findall(r\"7\", text)\n",
    "print(result)\n"
   ]
  },
  {
   "cell_type": "code",
   "execution_count": 10,
   "id": "ddf5513f",
   "metadata": {},
   "outputs": [
    {
     "name": "stdout",
     "output_type": "stream",
     "text": [
      "['e', 'l', 'l', 'o', 'o', 'r', 'l', 'd']\n"
     ]
    }
   ],
   "source": [
    "import re\n",
    "\n",
    "text = \"Hello World\"\n",
    "result = re.findall(r\"[a-z]\", text)\n",
    "print(result)\n"
   ]
  },
  {
   "cell_type": "code",
   "execution_count": 11,
   "id": "23f6c17b",
   "metadata": {},
   "outputs": [
    {
     "name": "stdout",
     "output_type": "stream",
     "text": [
      "['H', 'W']\n"
     ]
    }
   ],
   "source": [
    "import re\n",
    "\n",
    "text = \"Hello World\"\n",
    "result = re.findall(r\"[A-Z]\", text)\n",
    "print(result)\n"
   ]
  },
  {
   "cell_type": "code",
   "execution_count": 12,
   "id": "38e28cf5",
   "metadata": {},
   "outputs": [
    {
     "name": "stdout",
     "output_type": "stream",
     "text": [
      "['03001234567']\n"
     ]
    }
   ],
   "source": [
    "import re\n",
    "\n",
    "text = \"My phone number is 03001234567\"\n",
    "result = re.findall(r\"\\d+\", text)\n",
    "print(result)\n"
   ]
  },
  {
   "cell_type": "code",
   "execution_count": 13,
   "id": "228338b7",
   "metadata": {},
   "outputs": [
    {
     "name": "stdout",
     "output_type": "stream",
     "text": [
      "['03001234567']\n"
     ]
    }
   ],
   "source": [
    "import re\n",
    "\n",
    "text = \"My phone number is 03001234567\"\n",
    "result = re.findall(r\"\\d+\", text)\n",
    "print(result)\n"
   ]
  },
  {
   "cell_type": "code",
   "execution_count": 14,
   "id": "54c96db4",
   "metadata": {},
   "outputs": [
    {
     "name": "stdout",
     "output_type": "stream",
     "text": [
      "True\n"
     ]
    }
   ],
   "source": [
    "import re\n",
    "\n",
    "text = \"Hello everyone\"\n",
    "result = bool(re.match(r\"^Hello\", text))\n",
    "print(result)\n"
   ]
  },
  {
   "cell_type": "code",
   "execution_count": 15,
   "id": "588148b4",
   "metadata": {},
   "outputs": [
    {
     "name": "stdout",
     "output_type": "stream",
     "text": [
      "True\n"
     ]
    }
   ],
   "source": [
    "import re\n",
    "\n",
    "text = \"Hello World\"\n",
    "result = bool(re.search(r\"World$\", text))\n",
    "print(result)\n"
   ]
  },
  {
   "cell_type": "code",
   "execution_count": 16,
   "id": "96145f35",
   "metadata": {},
   "outputs": [
    {
     "name": "stdout",
     "output_type": "stream",
     "text": [
      "['e', 'u', 'a', 'E', 'e', 'i', 'o', 'a', 'e', 'u']\n"
     ]
    }
   ],
   "source": [
    "import re\n",
    "\n",
    "text = \"Regular Expressions are fun!\"\n",
    "result = re.findall(r\"[aeiouAEIOU]\", text)\n",
    "print(result)\n"
   ]
  },
  {
   "cell_type": "code",
   "execution_count": 17,
   "id": "cdd7716c",
   "metadata": {},
   "outputs": [
    {
     "name": "stdout",
     "output_type": "stream",
     "text": [
      "['R', 'g', 'l', 'r', 'x', 'p', 'r', 's', 's', 'n', 's', 'r', 'f', 'n']\n"
     ]
    }
   ],
   "source": [
    "import re\n",
    "\n",
    "text = \"Regular Expressions are fun!\"\n",
    "result = re.findall(r\"[bcdfghjklmnpqrstvwxyzBCDFGHJKLMNPQRSTVWXYZ]\", text)\n",
    "print(result)\n"
   ]
  },
  {
   "cell_type": "code",
   "execution_count": 18,
   "id": "9519e3f4",
   "metadata": {},
   "outputs": [
    {
     "name": "stdout",
     "output_type": "stream",
     "text": [
      "['Hello', 'there', 'world']\n"
     ]
    }
   ],
   "source": [
    "import re\n",
    "\n",
    "text = \"Hello there Python world\"\n",
    "result = re.findall(r\"\\b[A-Za-z]{5}\\b\", text)\n",
    "print(result)\n"
   ]
  },
  {
   "cell_type": "code",
   "execution_count": 19,
   "id": "10e23754",
   "metadata": {},
   "outputs": [
    {
     "name": "stdout",
     "output_type": "stream",
     "text": [
      "True\n"
     ]
    }
   ],
   "source": [
    "import re\n",
    "\n",
    "text = \"Hello World\"\n",
    "result = bool(re.search(r\"\\s\", text))\n",
    "print(result)\n"
   ]
  },
  {
   "cell_type": "code",
   "execution_count": 20,
   "id": "e92ae059",
   "metadata": {},
   "outputs": [
    {
     "name": "stdout",
     "output_type": "stream",
     "text": [
      "['Python', 'Powerful', 'Practical']\n"
     ]
    }
   ],
   "source": [
    "import re\n",
    "\n",
    "text = \"Python is Powerful and Practical\"\n",
    "result = re.findall(r\"\\bP\\w*\", text)\n",
    "print(result)\n"
   ]
  },
  {
   "cell_type": "code",
   "execution_count": 23,
   "id": "79364e40",
   "metadata": {},
   "outputs": [
    {
     "name": "stdout",
     "output_type": "stream",
     "text": [
      "True\n"
     ]
    }
   ],
   "source": [
    "import re\n",
    "\n",
    "text = \"I have a dog\"\n",
    "result = bool(re.search(r\"cat|dog\", text))\n",
    "print(result)\n"
   ]
  },
  {
   "cell_type": "code",
   "execution_count": 24,
   "id": "00f3d9d7",
   "metadata": {},
   "outputs": [
    {
     "name": "stdout",
     "output_type": "stream",
     "text": [
      "['Python3', 'is', 'fun']\n"
     ]
    }
   ],
   "source": [
    "import re\n",
    "\n",
    "text = \"Python3 is fun\"\n",
    "result = re.findall(r\"\\b\\w+\\b\", text)\n",
    "print(result)\n"
   ]
  },
  {
   "cell_type": "code",
   "execution_count": 25,
   "id": "edf024d6",
   "metadata": {},
   "outputs": [
    {
     "name": "stdout",
     "output_type": "stream",
     "text": [
      "['21', '15']\n"
     ]
    }
   ],
   "source": [
    "import re\n",
    "\n",
    "text = \"I am 21 years old and my brother is 15\"\n",
    "result = re.findall(r\"\\b\\d{2}\\b\", text)\n",
    "print(result)\n",
    "\n"
   ]
  },
  {
   "cell_type": "code",
   "execution_count": 26,
   "id": "a2a4d876",
   "metadata": {},
   "outputs": [
    {
     "name": "stdout",
     "output_type": "stream",
     "text": [
      "['R', 'g', 'l', 'r', ' ', 'x', 'p', 'r', 's', 's', 'n', 's']\n"
     ]
    }
   ],
   "source": [
    "import re\n",
    "\n",
    "text = \"Regular Expressions\"\n",
    "result = re.findall(r\"[^aeiouAEIOU]\", text)\n",
    "print(result)\n"
   ]
  },
  {
   "cell_type": "code",
   "execution_count": 27,
   "id": "46199a33",
   "metadata": {},
   "outputs": [
    {
     "name": "stdout",
     "output_type": "stream",
     "text": [
      "['!', '?']\n"
     ]
    }
   ],
   "source": [
    "import re\n",
    "\n",
    "text = \"Hello! How are you?\"\n",
    "result = re.findall(r\"[^\\w\\s]\", text)\n",
    "print(result)\n"
   ]
  },
  {
   "cell_type": "code",
   "execution_count": 28,
   "id": "839985fe",
   "metadata": {},
   "outputs": [
    {
     "name": "stdout",
     "output_type": "stream",
     "text": [
      "['Python is great']\n"
     ]
    }
   ],
   "source": [
    "import re\n",
    "\n",
    "text = 'He said \"Python is great\" yesterday'\n",
    "result = re.findall(r'\"(.*?)\"', text)\n",
    "print(result)\n"
   ]
  },
  {
   "cell_type": "code",
   "execution_count": 29,
   "id": "722c2ad9",
   "metadata": {},
   "outputs": [
    {
     "name": "stdout",
     "output_type": "stream",
     "text": [
      "['YES', 'no']\n"
     ]
    }
   ],
   "source": [
    "import re\n",
    "\n",
    "text = \"YES I said no\"\n",
    "result = re.findall(r\"\\b(?:yes|no)\\b\", text, flags=re.IGNORECASE)\n",
    "print(result)\n"
   ]
  },
  {
   "cell_type": "code",
   "execution_count": null,
   "id": "f06d3ad7",
   "metadata": {},
   "outputs": [
    {
     "name": "stdout",
     "output_type": "stream",
     "text": [
      "True\n"
     ]
    }
   ],
   "source": [
    "import re\n",
    "\n",
    "text = \"   \"   \n",
    "result = bool(re.fullmatch(r\"\\s*\", text))\n",
    "print(result)\n"
   ]
  },
  {
   "cell_type": "code",
   "execution_count": 31,
   "id": "46251a6d",
   "metadata": {},
   "outputs": [
    {
     "name": "stdout",
     "output_type": "stream",
     "text": [
      "['l', 'r', 'w']\n"
     ]
    }
   ],
   "source": [
    "import re\n",
    "\n",
    "text = \"level radar hello wow\"\n",
    "result = re.findall(r\"\\b([A-Za-z])\\w*\\1\\b\", text, flags=re.IGNORECASE)\n",
    "print(result)\n"
   ]
  },
  {
   "cell_type": "code",
   "execution_count": 32,
   "id": "351f8716",
   "metadata": {},
   "outputs": [
    {
     "name": "stdout",
     "output_type": "stream",
     "text": [
      "['#Python', '#Coding']\n"
     ]
    }
   ],
   "source": [
    "import re\n",
    "\n",
    "text = \"Loving #Python #Coding\"\n",
    "result = re.findall(r\"#\\w+\", text)\n",
    "print(result)\n"
   ]
  },
  {
   "cell_type": "code",
   "execution_count": 33,
   "id": "01737124",
   "metadata": {},
   "outputs": [
    {
     "name": "stdout",
     "output_type": "stream",
     "text": [
      "True\n"
     ]
    }
   ],
   "source": [
    "import re\n",
    "\n",
    "text = \"1A3F\"\n",
    "result = bool(re.fullmatch(r\"[0-9A-Fa-f]+\", text))\n",
    "print(result)\n"
   ]
  },
  {
   "cell_type": "code",
   "execution_count": 34,
   "id": "57f6a576",
   "metadata": {},
   "outputs": [
    {
     "name": "stdout",
     "output_type": "stream",
     "text": [
      "['.txt', '.pdf', '.jpeg']\n"
     ]
    }
   ],
   "source": [
    "import re\n",
    "\n",
    "text = \"file.txt file2.pdf image.jpeg\"\n",
    "result = re.findall(r\"\\.\\w+\", text)\n",
    "print(result)\n"
   ]
  },
  {
   "cell_type": "code",
   "execution_count": 35,
   "id": "323c0042",
   "metadata": {},
   "outputs": [
    {
     "name": "stdout",
     "output_type": "stream",
     "text": [
      "['\\n', '\\n']\n"
     ]
    }
   ],
   "source": [
    "import re\n",
    "\n",
    "text = \"Hello\\nWorld\\nPython\"\n",
    "result = re.findall(r\"\\n\", text)\n",
    "print(result)\n"
   ]
  },
  {
   "cell_type": "code",
   "execution_count": 36,
   "id": "ce68a6bb",
   "metadata": {},
   "outputs": [
    {
     "name": "stdout",
     "output_type": "stream",
     "text": [
      "['3c', '4e']\n"
     ]
    }
   ],
   "source": [
    "import re\n",
    "\n",
    "text = \"A1 B2 3c D4e\"\n",
    "result = re.findall(r\"\\d[A-Za-z]\", text)\n",
    "print(result)\n"
   ]
  },
  {
   "cell_type": "code",
   "execution_count": 37,
   "id": "20901052",
   "metadata": {},
   "outputs": [
    {
     "name": "stdout",
     "output_type": "stream",
     "text": [
      "['https://www.python.org', 'http://example.com']\n"
     ]
    }
   ],
   "source": [
    "import re\n",
    "\n",
    "text = \"Visit https://www.python.org or http://example.com\"\n",
    "result = re.findall(r\"https?://\\S+\", text)\n",
    "print(result)\n"
   ]
  },
  {
   "cell_type": "code",
   "execution_count": 38,
   "id": "dca8cabc",
   "metadata": {},
   "outputs": [
    {
     "name": "stdout",
     "output_type": "stream",
     "text": [
      "True\n"
     ]
    }
   ],
   "source": [
    "import re\n",
    "\n",
    "text = \"abcabcabc\"\n",
    "result = bool(re.fullmatch(r\"(.*abc){3}\", text))\n",
    "print(result)\n"
   ]
  },
  {
   "cell_type": "markdown",
   "id": "9c82cb5f",
   "metadata": {},
   "source": [
    "# "
   ]
  }
 ],
 "metadata": {
  "kernelspec": {
   "display_name": "Python 3",
   "language": "python",
   "name": "python3"
  },
  "language_info": {
   "codemirror_mode": {
    "name": "ipython",
    "version": 3
   },
   "file_extension": ".py",
   "mimetype": "text/x-python",
   "name": "python",
   "nbconvert_exporter": "python",
   "pygments_lexer": "ipython3",
   "version": "3.10.0"
  }
 },
 "nbformat": 4,
 "nbformat_minor": 5
}
