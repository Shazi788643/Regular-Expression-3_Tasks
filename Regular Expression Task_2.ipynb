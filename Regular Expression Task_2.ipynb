{
 "cells": [
  {
   "cell_type": "markdown",
   "id": "072d0f8f",
   "metadata": {},
   "source": [
    "# Part 2 – Intermediate (Groups, Quantifiers, Special Sequences) – 30 Tasks"
   ]
  },
  {
   "cell_type": "code",
   "execution_count": 1,
   "id": "011fdcc8",
   "metadata": {},
   "outputs": [
    {
     "name": "stdout",
     "output_type": "stream",
     "text": [
      "['example.com']\n"
     ]
    }
   ],
   "source": [
    "import re\n",
    "\n",
    "email = \"student@example.com\"\n",
    "result = re.findall(r\"@([\\w.-]+)\", email)\n",
    "print(result)\n"
   ]
  },
  {
   "cell_type": "code",
   "execution_count": 2,
   "id": "5df470c9",
   "metadata": {},
   "outputs": [
    {
     "name": "stdout",
     "output_type": "stream",
     "text": [
      "['student']\n"
     ]
    }
   ],
   "source": [
    "import re\n",
    "\n",
    "email = \"student@example.com\"\n",
    "result = re.findall(r\"^([\\w.-]+)@\", email)\n",
    "print(result)\n"
   ]
  },
  {
   "cell_type": "code",
   "execution_count": 3,
   "id": "fd2b79b8",
   "metadata": {},
   "outputs": [
    {
     "name": "stdout",
     "output_type": "stream",
     "text": [
      "['Python']\n"
     ]
    }
   ],
   "source": [
    "import re\n",
    "\n",
    "text = \"Python is fun to learn\"\n",
    "result = re.findall(r\"^\\w+\", text)\n",
    "print(result)\n"
   ]
  },
  {
   "cell_type": "code",
   "execution_count": 4,
   "id": "dbbea75d",
   "metadata": {},
   "outputs": [
    {
     "name": "stdout",
     "output_type": "stream",
     "text": [
      "Python_is_fun\n"
     ]
    }
   ],
   "source": [
    "import re\n",
    "\n",
    "text = \"Python is fun\"\n",
    "result = re.sub(r\" \", \"_\", text)\n",
    "print(result)\n"
   ]
  },
  {
   "cell_type": "code",
   "execution_count": 5,
   "id": "d300c18f",
   "metadata": {},
   "outputs": [
    {
     "name": "stdout",
     "output_type": "stream",
     "text": [
      "Python is fun\n"
     ]
    }
   ],
   "source": [
    "import re\n",
    "\n",
    "text = \"Python    is   fun\"\n",
    "result = re.sub(r\"\\s+\", \" \", text)\n",
    "print(result)\n"
   ]
  },
  {
   "cell_type": "code",
   "execution_count": 6,
   "id": "7850b243",
   "metadata": {},
   "outputs": [
    {
     "name": "stdout",
     "output_type": "stream",
     "text": [
      "Python is  fun\n"
     ]
    }
   ],
   "source": [
    "import re\n",
    "\n",
    "text = \"Python123 is 456 fun\"\n",
    "result = re.sub(r\"\\d\", \"\", text)\n",
    "print(result)\n"
   ]
  },
  {
   "cell_type": "code",
   "execution_count": 7,
   "id": "2aebf2e8",
   "metadata": {},
   "outputs": [
    {
     "name": "stdout",
     "output_type": "stream",
     "text": [
      "HelloPython2025\n"
     ]
    }
   ],
   "source": [
    "import re\n",
    "\n",
    "text = \"Hello@Python#2025!\"\n",
    "result = re.sub(r\"[^A-Za-z0-9]\", \"\", text)\n",
    "print(result)\n"
   ]
  },
  {
   "cell_type": "code",
   "execution_count": 8,
   "id": "cf9e3407",
   "metadata": {},
   "outputs": [
    {
     "name": "stdout",
     "output_type": "stream",
     "text": [
      "['Python is great', 'I agree']\n"
     ]
    }
   ],
   "source": [
    "import re\n",
    "\n",
    "text = \"He said (Python is great) and (I agree)\"\n",
    "result = re.findall(r\"\\((.*?)\\)\", text)\n",
    "print(result)\n"
   ]
  },
  {
   "cell_type": "code",
   "execution_count": 9,
   "id": "f15e2afa",
   "metadata": {},
   "outputs": [
    {
     "name": "stdout",
     "output_type": "stream",
     "text": [
      "['1998', '2020']\n"
     ]
    }
   ],
   "source": [
    "import re\n",
    "\n",
    "text = \"Born in 1998, graduated in 2020\"\n",
    "result = re.findall(r\"\\b\\d{4}\\b\", text)\n",
    "print(result)\n"
   ]
  },
  {
   "cell_type": "code",
   "execution_count": 10,
   "id": "c907d5a8",
   "metadata": {},
   "outputs": [
    {
     "name": "stdout",
     "output_type": "stream",
     "text": [
      "True\n"
     ]
    }
   ],
   "source": [
    "import re\n",
    "\n",
    "number = \"03001234567\"\n",
    "result = bool(re.fullmatch(r\"03\\d{9}\", number))\n",
    "print(result)\n"
   ]
  },
  {
   "cell_type": "code",
   "execution_count": 11,
   "id": "1d0db642",
   "metadata": {},
   "outputs": [
    {
     "name": "stdout",
     "output_type": "stream",
     "text": [
      "True\n"
     ]
    }
   ],
   "source": [
    "import re\n",
    "\n",
    "number = \"(042)1234567\"\n",
    "result = bool(re.fullmatch(r\"\\(\\d{3}\\)\\d{7}\", number))\n",
    "print(result)\n"
   ]
  },
  {
   "cell_type": "code",
   "execution_count": 12,
   "id": "c60e9498",
   "metadata": {},
   "outputs": [
    {
     "name": "stdout",
     "output_type": "stream",
     "text": [
      "True\n"
     ]
    }
   ],
   "source": [
    "import re\n",
    "\n",
    "cnic = \"12345-1234567-1\"\n",
    "result = bool(re.fullmatch(r\"\\d{5}-\\d{7}-\\d\", cnic))\n",
    "print(result)\n"
   ]
  },
  {
   "cell_type": "code",
   "execution_count": 13,
   "id": "add9db88",
   "metadata": {},
   "outputs": [
    {
     "name": "stdout",
     "output_type": "stream",
     "text": [
      "['is', 'test']\n"
     ]
    }
   ],
   "source": [
    "import re\n",
    "\n",
    "text = \"This is is a test test\"\n",
    "result = re.findall(r\"\\b(\\w+)\\s+\\1\\b\", text)\n",
    "print(result)\n"
   ]
  },
  {
   "cell_type": "code",
   "execution_count": 14,
   "id": "84854c82",
   "metadata": {},
   "outputs": [
    {
     "name": "stdout",
     "output_type": "stream",
     "text": [
      "['m', 't', 'e']\n"
     ]
    }
   ],
   "source": [
    "import re\n",
    "\n",
    "word = \"committee\"\n",
    "result = re.findall(r\"(.)\\1\", word)\n",
    "print(result)\n"
   ]
  },
  {
   "cell_type": "code",
   "execution_count": 15,
   "id": "40592a75",
   "metadata": {},
   "outputs": [
    {
     "name": "stdout",
     "output_type": "stream",
     "text": [
      "123 True\n",
      "45.67 True\n",
      "89.0 True\n",
      "12. False\n"
     ]
    }
   ],
   "source": [
    "import re\n",
    "\n",
    "numbers = [\"123\", \"45.67\", \"89.0\", \"12.\"]\n",
    "for num in numbers:\n",
    "    print(num, bool(re.fullmatch(r\"\\d+(\\.\\d+)?\", num)))\n"
   ]
  },
  {
   "cell_type": "code",
   "execution_count": 16,
   "id": "d1c73731",
   "metadata": {},
   "outputs": [
    {
     "name": "stdout",
     "output_type": "stream",
     "text": [
      "True\n"
     ]
    }
   ],
   "source": [
    "import re\n",
    "\n",
    "password = \"Pass@123\"\n",
    "result = bool(re.fullmatch(r\"(?=.*\\d)(?=.*[^A-Za-z0-9]).{8,}\", password))\n",
    "print(result)\n"
   ]
  },
  {
   "cell_type": "code",
   "execution_count": 17,
   "id": "123758e4",
   "metadata": {},
   "outputs": [
    {
     "name": "stdout",
     "output_type": "stream",
     "text": [
      "['$100', '€50']\n"
     ]
    }
   ],
   "source": [
    "import re\n",
    "\n",
    "text = \"I have $100 and €50 in my wallet\"\n",
    "result = re.findall(r\"[\\$\\€]\\d+\", text)\n",
    "print(result)\n"
   ]
  },
  {
   "cell_type": "code",
   "execution_count": 18,
   "id": "44e17aa3",
   "metadata": {},
   "outputs": [
    {
     "name": "stdout",
     "output_type": "stream",
     "text": [
      "['<p>', '</p>', '<b>', '</b>']\n"
     ]
    }
   ],
   "source": [
    "import re\n",
    "\n",
    "text = \"<p>Hello</p> <b>World</b>\"\n",
    "result = re.findall(r\"<[^>]+>\", text)\n",
    "print(result)\n"
   ]
  },
  {
   "cell_type": "code",
   "execution_count": 19,
   "id": "0188ec92",
   "metadata": {},
   "outputs": [
    {
     "name": "stdout",
     "output_type": "stream",
     "text": [
      "Hello World\n"
     ]
    }
   ],
   "source": [
    "import re\n",
    "\n",
    "text = \"<p>Hello</p> <b>World</b>\"\n",
    "result = re.sub(r\"<[^>]+>\", \"\", text)\n",
    "print(result)\n"
   ]
  },
  {
   "cell_type": "code",
   "execution_count": 20,
   "id": "3e35f730",
   "metadata": {},
   "outputs": [
    {
     "name": "stdout",
     "output_type": "stream",
     "text": [
      "True\n"
     ]
    }
   ],
   "source": [
    "import re\n",
    "\n",
    "ip = \"192.168.0.1\"\n",
    "result = bool(re.fullmatch(r\"(\\d{1,3}\\.){3}\\d{1,3}\", ip))\n",
    "print(result)\n"
   ]
  },
  {
   "cell_type": "code",
   "execution_count": 21,
   "id": "877cf64d",
   "metadata": {},
   "outputs": [
    {
     "name": "stdout",
     "output_type": "stream",
     "text": [
      "True\n"
     ]
    }
   ],
   "source": [
    "import re\n",
    "\n",
    "time = \"14:35\"\n",
    "result = bool(re.fullmatch(r\"(?:[01]\\d|2[0-3]):[0-5]\\d\", time))\n",
    "print(result)\n"
   ]
  },
  {
   "cell_type": "code",
   "execution_count": 22,
   "id": "d5b90e40",
   "metadata": {},
   "outputs": [
    {
     "name": "stdout",
     "output_type": "stream",
     "text": [
      "True\n"
     ]
    }
   ],
   "source": [
    "import re\n",
    "\n",
    "date = \"25-12-2025\"\n",
    "result = bool(re.fullmatch(r\"(0[1-9]|[12]\\d|3[01])-(0[1-9]|1[0-2])-\\d{4}\", date))\n",
    "print(result)\n"
   ]
  },
  {
   "cell_type": "code",
   "execution_count": 23,
   "id": "2789e7ef",
   "metadata": {},
   "outputs": [
    {
     "name": "stdout",
     "output_type": "stream",
     "text": [
      "['The', 'dog', 'ran', 'and', 'ate', 'the', 'pie']\n"
     ]
    }
   ],
   "source": [
    "import re\n",
    "\n",
    "text = \"The dog ran and ate the pie\"\n",
    "result = re.findall(r\"\\b[A-Za-z]{3}\\b\", text)\n",
    "print(result)\n"
   ]
  },
  {
   "cell_type": "code",
   "execution_count": 24,
   "id": "75c08444",
   "metadata": {},
   "outputs": [
    {
     "name": "stdout",
     "output_type": "stream",
     "text": [
      "['ee', 'eau', 'oo']\n"
     ]
    }
   ],
   "source": [
    "import re\n",
    "\n",
    "text = \"I see a beautiful zoo\"\n",
    "result = re.findall(r\"[aeiouAEIOU]{2,}\", text)\n",
    "print(result)\n"
   ]
  },
  {
   "cell_type": "code",
   "execution_count": 25,
   "id": "cd060e27",
   "metadata": {},
   "outputs": [
    {
     "name": "stdout",
     "output_type": "stream",
     "text": [
      "['singing', 'dancing', 'going']\n"
     ]
    }
   ],
   "source": [
    "import re\n",
    "\n",
    "text = \"I am singing and dancing while going home\"\n",
    "result = re.findall(r\"\\b\\w*ing\\w*\\b\", text)\n",
    "print(result)\n"
   ]
  },
  {
   "cell_type": "code",
   "execution_count": 26,
   "id": "1d6abfba",
   "metadata": {},
   "outputs": [
    {
     "name": "stdout",
     "output_type": "stream",
     "text": [
      "['@python_dev', '@coding123']\n"
     ]
    }
   ],
   "source": [
    "import re\n",
    "\n",
    "text = \"Follow @python_dev and @coding123\"\n",
    "result = re.findall(r\"@\\w+\", text)\n",
    "print(result)\n"
   ]
  },
  {
   "cell_type": "code",
   "execution_count": 27,
   "id": "f301f9e7",
   "metadata": {},
   "outputs": [
    {
     "name": "stdout",
     "output_type": "stream",
     "text": [
      "['abc123XYZ', 'xyz789ABC']\n"
     ]
    }
   ],
   "source": [
    "import re\n",
    "\n",
    "text = \"Watch https://www.youtube.com/watch?v=abc123XYZ and https://youtu.be/xyz789ABC\"\n",
    "result = re.findall(r\"(?:v=|be/)([A-Za-z0-9_-]{6,})\", text)\n",
    "print(result)\n"
   ]
  },
  {
   "cell_type": "code",
   "execution_count": 28,
   "id": "5e7a2f02",
   "metadata": {},
   "outputs": [
    {
     "name": "stdout",
     "output_type": "stream",
     "text": [
      "My number is #####\n"
     ]
    }
   ],
   "source": [
    "import re\n",
    "\n",
    "text = \"My number is 12345\"\n",
    "result = re.sub(r\"\\d\", \"#\", text)\n",
    "print(result)\n"
   ]
  },
  {
   "cell_type": "code",
   "execution_count": 29,
   "id": "260b84b6",
   "metadata": {},
   "outputs": [
    {
     "name": "stdout",
     "output_type": "stream",
     "text": [
      "#fff True\n",
      "#ff5733 True\n",
      "#123abc True\n",
      "123456 False\n"
     ]
    }
   ],
   "source": [
    "import re\n",
    "\n",
    "colors = [\"#fff\", \"#ff5733\", \"#123abc\", \"123456\"]\n",
    "for color in colors:\n",
    "    print(color, bool(re.fullmatch(r\"#([A-Fa-f0-9]{3}|[A-Fa-f0-9]{6})\", color)))\n"
   ]
  },
  {
   "cell_type": "code",
   "execution_count": 30,
   "id": "d49e602d",
   "metadata": {},
   "outputs": [
    {
     "name": "stdout",
     "output_type": "stream",
     "text": [
      "True\n"
     ]
    }
   ],
   "source": [
    "import re\n",
    "\n",
    "password = \"Strong@123\"\n",
    "result = bool(re.fullmatch(r\"(?=.*[A-Z])(?=.*[a-z])(?=.*\\d)(?=.*[^A-Za-z0-9]).{8,}\", password))\n",
    "print(result)\n"
   ]
  },
  {
   "cell_type": "code",
   "execution_count": null,
   "id": "1fccfef8",
   "metadata": {},
   "outputs": [],
   "source": []
  }
 ],
 "metadata": {
  "kernelspec": {
   "display_name": "Python 3",
   "language": "python",
   "name": "python3"
  },
  "language_info": {
   "codemirror_mode": {
    "name": "ipython",
    "version": 3
   },
   "file_extension": ".py",
   "mimetype": "text/x-python",
   "name": "python",
   "nbconvert_exporter": "python",
   "pygments_lexer": "ipython3",
   "version": "3.10.0"
  }
 },
 "nbformat": 4,
 "nbformat_minor": 5
}
