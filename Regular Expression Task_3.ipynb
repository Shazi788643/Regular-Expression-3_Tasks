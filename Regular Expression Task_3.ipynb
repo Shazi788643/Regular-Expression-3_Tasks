{
 "cells": [
  {
   "cell_type": "markdown",
   "id": "52b92ee3",
   "metadata": {},
   "source": [
    "# Part 3 – Advanced (Lookarounds, Backreferences, Performance) – 30 Tasks"
   ]
  },
  {
   "cell_type": "code",
   "execution_count": 1,
   "id": "1aedf64f",
   "metadata": {},
   "outputs": [
    {
     "name": "stdout",
     "output_type": "stream",
     "text": [
      "['5', '10', '30']\n"
     ]
    }
   ],
   "source": [
    "import re\n",
    "\n",
    "text = \"5kg 10 kg 20g 30kg\"\n",
    "result = re.findall(r\"\\b\\d+(?=\\s*kg\\b)\", text)\n",
    "print(result)\n"
   ]
  },
  {
   "cell_type": "code",
   "execution_count": 2,
   "id": "afe01637",
   "metadata": {},
   "outputs": [
    {
     "name": "stdout",
     "output_type": "stream",
     "text": [
      "['1', '20', '30', '4', '50']\n"
     ]
    }
   ],
   "source": [
    "import re\n",
    "\n",
    "text = \"5kg 10 kg 20g 30 40kg 50\"\n",
    "result = re.findall(r\"\\b\\d+(?!\\s*kg\\b)\", text)\n",
    "print(result)\n"
   ]
  },
  {
   "cell_type": "code",
   "execution_count": 3,
   "id": "f5ff4711",
   "metadata": {},
   "outputs": [
    {
     "name": "stdout",
     "output_type": "stream",
     "text": [
      "['apple', 'orange', 'mango']\n"
     ]
    }
   ],
   "source": [
    "import re\n",
    "\n",
    "text = \"apple, banana orange, mango, grape\"\n",
    "result = re.findall(r\"\\b([A-Za-z]+)(?=,)\", text)\n",
    "print(result)\n"
   ]
  },
  {
   "cell_type": "code",
   "execution_count": 4,
   "id": "7c70566d",
   "metadata": {},
   "outputs": [
    {
     "name": "stdout",
     "output_type": "stream",
     "text": [
      "['Python', 'regex']\n"
     ]
    }
   ],
   "source": [
    "import re\n",
    "\n",
    "text = \"Loving #Python and #regex in #2025\"\n",
    "result = re.findall(r\"(?<=#)[A-Za-z_]\\w*\", text)\n",
    "print(result)\n"
   ]
  },
  {
   "cell_type": "code",
   "execution_count": 5,
   "id": "9e16a830",
   "metadata": {},
   "outputs": [
    {
     "name": "stdout",
     "output_type": "stream",
     "text": [
      "['Python', 'Python']\n"
     ]
    }
   ],
   "source": [
    "import re\n",
    "\n",
    "text = \"Python Python3 Python 3 Python2\"\n",
    "result = re.findall(r\"\\bPython(?!3)\\b\", text)\n",
    "print(result)\n"
   ]
  },
  {
   "cell_type": "code",
   "execution_count": 6,
   "id": "e4bcf873",
   "metadata": {},
   "outputs": [
    {
     "name": "stdout",
     "output_type": "stream",
     "text": [
      "['aba', 'aba']\n"
     ]
    }
   ],
   "source": [
    "import re\n",
    "\n",
    "text = \"ababa\"\n",
    "result = [m.group(1) for m in re.finditer(r\"(?=(aba))\", text)]\n",
    "print(result)\n"
   ]
  },
  {
   "cell_type": "code",
   "execution_count": 7,
   "id": "14d53b3c",
   "metadata": {},
   "outputs": [
    {
     "name": "stdout",
     "output_type": "stream",
     "text": [
      "['100', '123', '999']\n"
     ]
    }
   ],
   "source": [
    "import re\n",
    "\n",
    "text = \"9 99 100 123 999 1000\"\n",
    "result = re.findall(r\"\\b[1-9]\\d{2}\\b\", text)\n",
    "print(result)\n"
   ]
  },
  {
   "cell_type": "code",
   "execution_count": 8,
   "id": "1a99e944",
   "metadata": {},
   "outputs": [
    {
     "name": "stdout",
     "output_type": "stream",
     "text": [
      "['+3.14', '-0.5', '42', '5', '+10', '-7', '5']\n"
     ]
    }
   ],
   "source": [
    "import re\n",
    "\n",
    "text = \"+3.14 -0.5 42 -.5 +10 -7 5.\"\n",
    "result = re.findall(r\"[+-]?(?:\\d+\\.\\d+|\\d+)\", text)\n",
    "print(result)\n"
   ]
  },
  {
   "cell_type": "code",
   "execution_count": 9,
   "id": "0684badc",
   "metadata": {},
   "outputs": [
    {
     "name": "stdout",
     "output_type": "stream",
     "text": [
      "hello False\n",
      "world True\n",
      "sky True\n",
      "PYTHON True\n"
     ]
    }
   ],
   "source": [
    "import re\n",
    "\n",
    "texts = [\"hello\", \"world\", \"sky\", \"PYTHON\"]\n",
    "for t in texts:\n",
    "    print(t, bool(re.fullmatch(r\"(?i)^(?!.*e).*$\", t)))\n"
   ]
  },
  {
   "cell_type": "code",
   "execution_count": 10,
   "id": "79ee7bd7",
   "metadata": {},
   "outputs": [
    {
     "name": "stdout",
     "output_type": "stream",
     "text": [
      "[True, True, False, False]\n"
     ]
    }
   ],
   "source": [
    "import re\n",
    "import ipaddress\n",
    "\n",
    "samples = [\"2001:0db8:85a3:0000:0000:8a2e:0370:7334\", \"2001:db8::1\", \"abcd::1234:5678::1\", \"gggg::1\"]\n",
    "def is_valid_ipv6(s):\n",
    "    try:\n",
    "        ipaddress.IPv6Address(s)\n",
    "        return True\n",
    "    except ValueError:\n",
    "        return False\n",
    "\n",
    "print([is_valid_ipv6(s) for s in samples])\n"
   ]
  },
  {
   "cell_type": "code",
   "execution_count": 11,
   "id": "57bc50ee",
   "metadata": {},
   "outputs": [
    {
     "name": "stdout",
     "output_type": "stream",
     "text": [
      "['<div>', '<p>', \"<img src='x'>\"]\n"
     ]
    }
   ],
   "source": [
    "import re\n",
    "\n",
    "text = \"<div><p>Hello</p></div> </br> </span> <img src='x'>\"\n",
    "result = re.findall(r\"<(?!/)[A-Za-z][^>]*>\", text)\n",
    "print(result)\n"
   ]
  },
  {
   "cell_type": "code",
   "execution_count": 12,
   "id": "8b9153bc",
   "metadata": {},
   "outputs": [
    {
     "name": "stdout",
     "output_type": "stream",
     "text": [
      "['is', 'test', 'and']\n"
     ]
    }
   ],
   "source": [
    "import re\n",
    "\n",
    "text = \"This is is a test test and and words\"\n",
    "result = re.findall(r\"\\b(\\w+)\\s+\\1\\b\", text)\n",
    "print(result)\n"
   ]
  },
  {
   "cell_type": "code",
   "execution_count": null,
   "id": "d1b09bc9",
   "metadata": {},
   "outputs": [
    {
     "name": "stdout",
     "output_type": "stream",
     "text": [
      "['ab', 'cd', 'da', 'mo', 'po']\n"
     ]
    }
   ],
   "source": [
    "import re\n",
    "\n",
    "text = \"aba abc cdc dad mom pop axe\"\n",
    "result = re.findall(r\"\\b([A-Za-z])([A-Za-z])\\1\\b\", text)\n",
    "\n",
    "print([\"\".join(t) for t in result])\n"
   ]
  },
  {
   "cell_type": "code",
   "execution_count": null,
   "id": "f7ae5b5e",
   "metadata": {},
   "outputs": [
    {
     "name": "stdout",
     "output_type": "stream",
     "text": [
      "['report', 'image', 'notes', 'archive']\n",
      "['report', ' image', ' notes', ' archive']\n"
     ]
    }
   ],
   "source": [
    "import re\n",
    "\n",
    "text = \"report.pdf image.jpeg notes.txt archive.tar.gz data\"\n",
    "\n",
    "simple = re.findall(r\"\\b([\\w-]+)\\.[A-Za-z0-9]+\\b\", text)\n",
    "print(simple)\n",
    "\n",
    "multi = re.findall(r\"\\b(.+?)(?:\\.[A-Za-z0-9]+)\\b\", text)\n",
    "print(multi)\n"
   ]
  },
  {
   "cell_type": "code",
   "execution_count": 15,
   "id": "7ee59065",
   "metadata": {},
   "outputs": [
    {
     "name": "stdout",
     "output_type": "stream",
     "text": [
      "[True, True, True, False]\n"
     ]
    }
   ],
   "source": [
    "import re\n",
    "\n",
    "cards = [\"1234567812345678\", \"1234-5678-1234-5678\", \"1234 5678 1234 5678\", \"1234-5678-1234-567\"]\n",
    "pattern = r\"^(?:\\d{16}|(?:\\d{4}[- ]){3}\\d{4})$\"\n",
    "print([bool(re.fullmatch(pattern, c)) for c in cards])\n"
   ]
  },
  {
   "cell_type": "code",
   "execution_count": null,
   "id": "e3cb6bf0",
   "metadata": {},
   "outputs": [
    {
     "name": "stdout",
     "output_type": "stream",
     "text": [
      "['river']\n"
     ]
    }
   ],
   "source": [
    "import re\n",
    "\n",
    "text = \"alpha beta cake code AbaBa Ababa hello river\"\n",
    "\n",
    "result = re.findall(r\"\\b(?!.*[aeiouAEIOU]{2})(?!.*[^aeiouAEIOU\\W]{2})[A-Za-z]+\\b\", text)\n",
    "print(result)\n"
   ]
  },
  {
   "cell_type": "code",
   "execution_count": 17,
   "id": "1273d3f8",
   "metadata": {},
   "outputs": [
    {
     "name": "stdout",
     "output_type": "stream",
     "text": [
      "[True, True, False, False]\n"
     ]
    }
   ],
   "source": [
    "import re\n",
    "\n",
    "urls = [\"https://example.com\", \"http://site.org/path?q=1\", \"ftp://bad.com\", \"https://\"]\n",
    "pattern = r\"^https?://[^\\s/$.?#].[^\\s]*$\"\n",
    "print([bool(re.fullmatch(pattern, u)) for u in urls])\n"
   ]
  },
  {
   "cell_type": "code",
   "execution_count": 18,
   "id": "149f41f0",
   "metadata": {},
   "outputs": [
    {
     "name": "stdout",
     "output_type": "stream",
     "text": [
      "['extraordinary', 'responsibilities', 'internationalization']\n"
     ]
    }
   ],
   "source": [
    "import re\n",
    "\n",
    "text = \"short extraordinary responsibilities internationalization tiny\"\n",
    "result = re.findall(r\"\\b[A-Za-z]{11,}\\b\", text)\n",
    "print(result)\n"
   ]
  },
  {
   "cell_type": "code",
   "execution_count": 19,
   "id": "6a85b433",
   "metadata": {},
   "outputs": [
    {
     "name": "stdout",
     "output_type": "stream",
     "text": [
      "['queue', 'strength', 'education', 'rhythm', 'cooperation']\n"
     ]
    }
   ],
   "source": [
    "import re\n",
    "\n",
    "text = \"queue strength education rhythm cooperation fly\"\n",
    "result = re.findall(r\"\\b(?=(?:.*[aeiouAEIOU]){3,})[A-Za-z]+\\b\", text)\n",
    "print(result)\n"
   ]
  },
  {
   "cell_type": "code",
   "execution_count": 20,
   "id": "ec7193f4",
   "metadata": {},
   "outputs": [
    {
     "name": "stdout",
     "output_type": "stream",
     "text": [
      "['5', '10', '30', '55', '100', '205']\n"
     ]
    }
   ],
   "source": [
    "import re\n",
    "\n",
    "text = \"1 5 10 23 30 41 55 100 101 205\"\n",
    "result = re.findall(r\"\\b\\d*[05]\\b\", text)\n",
    "print(result)\n"
   ]
  },
  {
   "cell_type": "code",
   "execution_count": 21,
   "id": "b9387436",
   "metadata": {},
   "outputs": [
    {
     "name": "stdout",
     "output_type": "stream",
     "text": [
      "['Hello world', 'another block']\n"
     ]
    }
   ],
   "source": [
    "import re\n",
    "\n",
    "text = \"start Hello world end ... start another block end\"\n",
    "result = re.findall(r\"(?<=start)(.*?)(?=end)\", text, flags=re.DOTALL)\n",
    "print([s.strip() for s in result])\n"
   ]
  },
  {
   "cell_type": "code",
   "execution_count": null,
   "id": "efb3f604",
   "metadata": {},
   "outputs": [
    {
     "name": "stdout",
     "output_type": "stream",
     "text": [
      "['coffee', 'balloon', 'apple', 'committee', 'hello']\n"
     ]
    }
   ],
   "source": [
    "import re\n",
    "\n",
    "text = \"coffee balloon apple committee hello run\"\n",
    "result = re.findall(r\"\\b\\w*(\\w)\\1\\w*\\b\", text)\n",
    "\n",
    "words = [m.group(0) for m in re.finditer(r\"\\b\\w*(\\w)\\1\\w*\\b\", text)]\n",
    "print(words)\n"
   ]
  },
  {
   "cell_type": "code",
   "execution_count": 23,
   "id": "3fd38cf1",
   "metadata": {},
   "outputs": [
    {
     "name": "stdout",
     "output_type": "stream",
     "text": [
      "['1,000', '20,345', '12,345,678']\n"
     ]
    }
   ],
   "source": [
    "import re\n",
    "\n",
    "text = \"100 1,000 20,345 123,45 12,345,678 9,99\"\n",
    "result = re.findall(r\"\\b\\d{1,3}(?:,\\d{3})+\\b\", text)\n",
    "print(result)\n"
   ]
  },
  {
   "cell_type": "code",
   "execution_count": null,
   "id": "540f1578",
   "metadata": {},
   "outputs": [
    {
     "name": "stdout",
     "output_type": "stream",
     "text": [
      "['I', '', 'IV', '', 'V', '', 'IX', '', 'XL', '', 'XC', '', 'CD', '', 'CM', '', 'M', '', 'MMXXV', '', '', '', '', '']\n"
     ]
    }
   ],
   "source": [
    "import re\n",
    "\n",
    "text = \"I IV V IX XL XC CD CM M MMXXV invalid VX\"\n",
    "pattern = r\"\\bM{0,4}(CM|CD|D?C{0,3})(XC|XL|L?X{0,3})(IX|IV|V?I{0,3})\\b\"\n",
    "result = re.findall(pattern, text)\n",
    "\n",
    "matches = [m.group(0) for m in re.finditer(pattern, text)]\n",
    "print(matches)\n"
   ]
  },
  {
   "cell_type": "code",
   "execution_count": null,
   "id": "f3b02479",
   "metadata": {},
   "outputs": [
    {
     "name": "stdout",
     "output_type": "stream",
     "text": [
      "['#Hello', '#regex', '#_cool', '#coding123']\n"
     ]
    }
   ],
   "source": [
    "import re\n",
    "\n",
    "text = \"#Hello #2025 #regex #_cool #coding123\"\n",
    "\n",
    "result = re.findall(r\"#(?!\\d)[A-Za-z_]\\w*\", text)\n",
    "print(result)\n"
   ]
  },
  {
   "cell_type": "code",
   "execution_count": 26,
   "id": "0bc750c8",
   "metadata": {},
   "outputs": [
    {
     "name": "stdout",
     "output_type": "stream",
     "text": [
      "['abcabc', 'abcabcabc', '1212']\n"
     ]
    }
   ],
   "source": [
    "import re\n",
    "\n",
    "text = \"abcabc xyz abcab abcabcabc 1212 abababx\"\n",
    "result = [m.group(0) for m in re.finditer(r\"\\b(\\w+)\\1+\\b\", text)]\n",
    "print(result)\n"
   ]
  },
  {
   "cell_type": "code",
   "execution_count": 27,
   "id": "6af58890",
   "metadata": {},
   "outputs": [
    {
     "name": "stdout",
     "output_type": "stream",
     "text": [
      "['101', '11001', '000111']\n"
     ]
    }
   ],
   "source": [
    "import re\n",
    "\n",
    "text = \"101 102 11001 abc 000111 210\"\n",
    "result = re.findall(r\"\\b[01]+\\b\", text)\n",
    "print(result)\n",
    " "
   ]
  },
  {
   "cell_type": "code",
   "execution_count": 28,
   "id": "8630e007",
   "metadata": {},
   "outputs": [
    {
     "name": "stdout",
     "output_type": "stream",
     "text": [
      "[True, True, False, False]\n"
     ]
    }
   ],
   "source": [
    "import re\n",
    "\n",
    "samples = [\"00:1A:2B:3C:4D:5E\", \"AA-BB-CC-DD-EE-FF\", \"001A.2B3C.4D5E\", \"GG:11:22:33:44:55\"]\n",
    "pattern = r\"^(?:[0-9A-Fa-f]{2}[:-]){5}[0-9A-Fa-f]{2}$\"\n",
    "print([bool(re.fullmatch(pattern, s)) for s in samples])\n"
   ]
  },
  {
   "cell_type": "code",
   "execution_count": 29,
   "id": "88eff233",
   "metadata": {},
   "outputs": [
    {
     "name": "stdout",
     "output_type": "stream",
     "text": [
      "('John', 'Doe')\n"
     ]
    }
   ],
   "source": [
    "import re\n",
    "\n",
    "text = \"John Doe\"\n",
    "m = re.fullmatch(r\"([A-Za-z]+)\\s+([A-Za-z]+)\", text)\n",
    "result = (m.group(1), m.group(2)) if m else None\n",
    "print(result)\n"
   ]
  },
  {
   "cell_type": "code",
   "execution_count": 30,
   "id": "8ca946a7",
   "metadata": {},
   "outputs": [
    {
     "name": "stdout",
     "output_type": "stream",
     "text": [
      "['<!-- first comment -->', '<!-- second\\nmulti-line comment -->']\n"
     ]
    }
   ],
   "source": [
    "import re\n",
    "\n",
    "text = \"Text <!-- first comment --> more <!-- second\\nmulti-line comment --> end\"\n",
    "result = re.findall(r\"<!--.*?-->\", text, flags=re.DOTALL)\n",
    "print(result)\n"
   ]
  },
  {
   "cell_type": "code",
   "execution_count": null,
   "id": "08f9684f",
   "metadata": {},
   "outputs": [],
   "source": []
  }
 ],
 "metadata": {
  "kernelspec": {
   "display_name": "Python 3",
   "language": "python",
   "name": "python3"
  },
  "language_info": {
   "codemirror_mode": {
    "name": "ipython",
    "version": 3
   },
   "file_extension": ".py",
   "mimetype": "text/x-python",
   "name": "python",
   "nbconvert_exporter": "python",
   "pygments_lexer": "ipython3",
   "version": "3.10.0"
  }
 },
 "nbformat": 4,
 "nbformat_minor": 5
}
